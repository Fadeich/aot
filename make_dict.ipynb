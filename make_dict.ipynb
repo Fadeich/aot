{
 "cells": [
  {
   "cell_type": "code",
   "execution_count": 10,
   "metadata": {},
   "outputs": [],
   "source": [
    "from collections import namedtuple"
   ]
  },
  {
   "cell_type": "code",
   "execution_count": 11,
   "metadata": {},
   "outputs": [],
   "source": [
    "lines = [line.rstrip('\\n') for line in open('dict_new.txt')]"
   ]
  },
  {
   "cell_type": "code",
   "execution_count": 12,
   "metadata": {},
   "outputs": [
    {
     "name": "stdout",
     "output_type": "stream",
     "text": [
      "!Словарь РуСентиЛекс\n",
      "! Структура: \n",
      "! 1. слово или словосочетание,\n",
      "! 2. Часть речи или синтаксический тип группы,\n",
      "! 3. слово или словосочетание в лемматизированной форме, \n",
      "! 4. Тональность: позитивная (positive), негативная(negative), нейтральная (neutral) или неопределеная оценка, зависит от контекста (positive/negative),\n",
      "! 5. Источник: оценка (opinion), чувство (feeling), факт (fact),\n",
      "! 6. Если тональность отличается для разных значений многозначного слова, то перечисляются все значения слова по тезаурусу РуТез и дается отсылка на сооветствующее понятие - имя понятия в кавычках.\n",
      "!\n",
      "!RuSentiLex Structure\n",
      "!1. word or phrase,\n",
      "!2. part of speech or type of syntactic group,\n",
      "!3. initial word (phrase) in a lemmatized form,\n",
      "!4. Sentiment: positive, negative, neutral or positive/negative (indefinite, depends on the context),\n",
      "!5. Source: opinion, feeling (private state), or fact (sentiment connotation),\n",
      "!6. Ambiguity: if sentiment is different for senses of an ambiguous word, then sentiment orientations for all senses are described, the senses\n",
      "!are labeled with the RuThes concept names.\n",
      "\n"
     ]
    }
   ],
   "source": [
    "for line in lines[:18]:\n",
    "    print(line)"
   ]
  },
  {
   "cell_type": "code",
   "execution_count": 4,
   "metadata": {},
   "outputs": [
    {
     "data": {
      "text/plain": [
       "['аборт, Noun, аборт, negative, fact',\n",
       " 'абортивный, Adj, абортивный, negative, fact',\n",
       " 'абракадабра, Noun, абракадабра, negative, opinion',\n",
       " 'абсурд, Noun, абсурд, negative, opinion',\n",
       " 'абсурдность, Noun, абсурдность, negative, opinion',\n",
       " 'абсурдный, Adj, абсурдный, negative, opinion',\n",
       " 'авантюра, Noun, авантюра, negative, opinion']"
      ]
     },
     "execution_count": 4,
     "metadata": {},
     "output_type": "execute_result"
    }
   ],
   "source": [
    "lines[18:25]"
   ]
  },
  {
   "cell_type": "code",
   "execution_count": 5,
   "metadata": {},
   "outputs": [
    {
     "data": {
      "text/plain": [
       "16150"
      ]
     },
     "execution_count": 5,
     "metadata": {},
     "output_type": "execute_result"
    }
   ],
   "source": [
    "len(lines[18:])"
   ]
  },
  {
   "cell_type": "code",
   "execution_count": 6,
   "metadata": {},
   "outputs": [],
   "source": [
    "list_of_tone = []\n",
    "names = ['word', 'part_of_speech', 'lemm_word', 'tonality']\n",
    "for line in lines[18:]:\n",
    "    list_of_tone.append(dict(zip(names, line.split(', '))))"
   ]
  },
  {
   "cell_type": "markdown",
   "metadata": {},
   "source": [
    "### Ошибки\n",
    "естественный, Adj, естественный, neutral, fact, fact, \"ПРИРОДНОГО ПРОИСХОЖДЕНИЯ\"\n",
    "\n",
    "за что деньги, VG, PredicativeG, за что деньги, negative, opinion\n",
    "\n",
    "настроение то, что нужно, NG, настроение то что нужный, positive, feeling\n",
    "\n",
    "пострадать, , Verb, пострадать, negative, feeling\n",
    "\n",
    "уровень жизни растет, VG, уровень жизнь, расти, positive, fact\n",
    "\n",
    "### Нормальные примеры с многозначностью\n",
    "аморфность, Noun, аморфность, negative, opinion, \"БЕЗДЕЯТЕЛЬНЫЙ\"\n",
    "\n",
    "аморфность, Noun, аморфность, negative, opinion, \"РАСПЛЫВЧАТЫЙ (НЕЯСНЫЙ)\"\n",
    "\n",
    "аморфность, Noun, аморфность, neutral, fact, \"АМОРФНОЕ СТРОЕНИЕ\"\n",
    "\n",
    "аморфный, Adj, аморфный, negative, opinion, \"БЕЗДЕЯТЕЛЬНЫЙ\"\n",
    "\n",
    "аморфный, Adj, аморфный, negative, opinion, \"РАСПЛЫВЧАТЫЙ (НЕЯСНЫЙ)\"\n",
    "\n",
    "аморфный, Adj, аморфный, neutral, fact, \"АМОРФНОЕ СТРОЕНИЕ\"\n",
    "\n",
    "атака, Noun, атака, negative, fact, \"АТАКА, ВОЕННЫЙ УДАР\"\n",
    "\n",
    "атака, Noun, атака, positive, fact, \"АТАКА (ИГРОВОЕ ДЕЙСТВИЕ)\" \n",
    "\n",
    "байка, Noun, байка, neutral, fact, \"БАЙКОВАЯ ТКАНЬ\"\n",
    "\n",
    "байка, Noun, байка, positive/negative, opinion, \"ВЫДУМКА, ВЫМЫСЕЛ\"\n",
    "\n",
    "балласт, Noun, балласт, negative, opinion, \"БАЛЛАСТ (БРЕМЯ)\""
   ]
  },
  {
   "cell_type": "code",
   "execution_count": 7,
   "metadata": {
    "collapsed": true
   },
   "outputs": [],
   "source": [
    "mistakes = ['PredicativeG', 'NG', 'Verb', 'уровень жизнь']"
   ]
  },
  {
   "cell_type": "code",
   "execution_count": 90,
   "metadata": {},
   "outputs": [
    {
     "name": "stdout",
     "output_type": "stream",
     "text": [
      "[features(word='за что деньги', part_of_speech='VG', tonality='за что деньги', source='negative', extra='opinion')]\n",
      "[features(word='настроение то', part_of_speech='что нужно', tonality='настроение то что нужный', source='positive', extra='feeling'), features(word='покой', part_of_speech='Noun', tonality='positive', source='opinion', extra='')]\n",
      "[features(word='пострадать', part_of_speech='', tonality='пострадать', source='negative', extra='feeling')]\n",
      "[features(word='уровень жизни растет', part_of_speech='VG', tonality='расти', source='positive', extra='fact')]\n"
     ]
    }
   ],
   "source": [
    "#example of mistakes\n",
    "for m in mistakes:\n",
    "    print(Dict[m])"
   ]
  },
  {
   "cell_type": "code",
   "execution_count": 8,
   "metadata": {
    "collapsed": true
   },
   "outputs": [],
   "source": [
    "features = namedtuple('features', ['word', 'part_of_speech', 'tonality', 'source', 'extra'])"
   ]
  },
  {
   "cell_type": "code",
   "execution_count": 9,
   "metadata": {},
   "outputs": [],
   "source": [
    "def get_Dict():\n",
    "    Dict = {}\n",
    "    for i, line in enumerate(lines[18:]):\n",
    "        l = list(map(lambda x: x.strip(), line.split(',')))\n",
    "        lemm_word, featur, extra = l[2], l[:2] + l[3:5], l[5:]\n",
    "        if not len(extra):\n",
    "            featur += ['']\n",
    "        else:\n",
    "            featur += [\"; \".join(extra).strip('\"')]\n",
    "        if lemm_word not in mistakes:\n",
    "            prev = Dict.get(lemm_word, [])\n",
    "            prev.append(features(*featur))\n",
    "            Dict[lemm_word] = prev\n",
    "    return Dict"
   ]
  },
  {
   "cell_type": "code",
   "execution_count": 10,
   "metadata": {},
   "outputs": [],
   "source": [
    "Dict = get_Dict()"
   ]
  },
  {
   "cell_type": "code",
   "execution_count": 11,
   "metadata": {},
   "outputs": [
    {
     "data": {
      "text/plain": [
       "13586"
      ]
     },
     "execution_count": 11,
     "metadata": {},
     "output_type": "execute_result"
    }
   ],
   "source": [
    "len(Dict)"
   ]
  },
  {
   "cell_type": "code",
   "execution_count": 12,
   "metadata": {},
   "outputs": [
    {
     "data": {
      "text/plain": [
       "16145"
      ]
     },
     "execution_count": 12,
     "metadata": {},
     "output_type": "execute_result"
    }
   ],
   "source": [
    "sum(map(lambda x: len(x), Dict.values()))"
   ]
  },
  {
   "cell_type": "code",
   "execution_count": 15,
   "metadata": {},
   "outputs": [
    {
     "data": {
      "text/plain": [
       "[features(word='басня', part_of_speech='Noun', tonality='negative', source='opinion', extra='ВЫДУМКА; ВЫМЫСЕЛ'),\n",
       " features(word='басня', part_of_speech='Noun', tonality='neutral', source='fact', extra='БАСНЯ (ПРОИЗВЕДЕНИЕ)')]"
      ]
     },
     "execution_count": 15,
     "metadata": {},
     "output_type": "execute_result"
    }
   ],
   "source": [
    "Dict['басня']"
   ]
  },
  {
   "cell_type": "code",
   "execution_count": 16,
   "metadata": {},
   "outputs": [
    {
     "data": {
      "text/plain": [
       "[features(word='безоблачный', part_of_speech='Adj', tonality='positive', source='fact', extra='БЕЗОБЛАЧНАЯ ПОГОДА'),\n",
       " features(word='безоблачный', part_of_speech='Adj', tonality='positive', source='opinion', extra='ИДИЛЛИЯ; БЕЗМЯТЕЖНОЕ СУЩЕСТВОВАНИЕ')]"
      ]
     },
     "execution_count": 16,
     "metadata": {},
     "output_type": "execute_result"
    }
   ],
   "source": [
    "Dict['безоблачный']"
   ]
  },
  {
   "cell_type": "code",
   "execution_count": 9,
   "metadata": {},
   "outputs": [
    {
     "data": {
      "text/plain": [
       "'аборт'"
      ]
     },
     "execution_count": 9,
     "metadata": {},
     "output_type": "execute_result"
    }
   ],
   "source": [
    "Dict['аборт'][0].word"
   ]
  },
  {
   "cell_type": "code",
   "execution_count": 17,
   "metadata": {},
   "outputs": [],
   "source": [
    "import pickle\n",
    "with open('dict.pickle', 'wb') as f:\n",
    "    pickle.dump(Dict, f)"
   ]
  },
  {
   "cell_type": "code",
   "execution_count": 6,
   "metadata": {},
   "outputs": [],
   "source": [
    "import pickle\n",
    "from collections import namedtuple\n",
    "features = namedtuple('features', ['word', 'part_of_speech', 'tonality', 'source', 'extra'])\n",
    "with open('dict.pickle', 'rb') as f:\n",
    "    Dict = pickle.load(f)"
   ]
  }
 ],
 "metadata": {
  "kernelspec": {
   "display_name": "Python 3",
   "language": "python",
   "name": "python3"
  },
  "language_info": {
   "codemirror_mode": {
    "name": "ipython",
    "version": 3
   },
   "file_extension": ".py",
   "mimetype": "text/x-python",
   "name": "python",
   "nbconvert_exporter": "python",
   "pygments_lexer": "ipython3",
   "version": "3.6.2"
  }
 },
 "nbformat": 4,
 "nbformat_minor": 2
}
