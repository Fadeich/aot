{
 "cells": [
  {
   "cell_type": "code",
   "execution_count": 1,
   "metadata": {
    "collapsed": false
   },
   "outputs": [
    {
     "name": "stdout",
     "output_type": "stream",
     "text": [
      "Populating the interactive namespace from numpy and matplotlib\n"
     ]
    }
   ],
   "source": [
    "import numpy as np\n",
    "import pandas as pd\n",
    "import pickle\n",
    "import os\n",
    "import re\n",
    "import nltk\n",
    "import pymorphy2\n",
    "import seaborn as sns\n",
    "from collections import namedtuple\n",
    "\n",
    "sns.set_style('whitegrid')\n",
    "sns.despine()\n",
    "\n",
    "%pylab inline"
   ]
  },
  {
   "cell_type": "code",
   "execution_count": 2,
   "metadata": {
    "collapsed": false
   },
   "outputs": [],
   "source": [
    "features = namedtuple('features', ['word', 'part_of_speech', 'tonality', 'source', 'extra'])\n",
    "with open('dict_2py.pickle', 'rb') as fin:\n",
    "    Dict = pickle.load(fin)"
   ]
  },
  {
   "cell_type": "code",
   "execution_count": 3,
   "metadata": {
    "collapsed": true
   },
   "outputs": [],
   "source": [
    "filenames = os.listdir('../train_data/')\n",
    "opin_ptn = re.compile('[a-z0-9]*\\.opin\\.txt')\n",
    "enti_ptn = re.compile('[a-z0-9]*\\.ann')\n",
    "opinion_names = filter(lambda s: re.match(opin_ptn, s) is not None, filenames)\n",
    "entities_names = filter(lambda s: re.match(enti_ptn, s) is not None, filenames)\n",
    "articles_names = filter(lambda s: re.match(enti_ptn, s) is None and re.match(opin_ptn, s) is None, filenames)"
   ]
  },
  {
   "cell_type": "code",
   "execution_count": 4,
   "metadata": {
    "collapsed": true
   },
   "outputs": [],
   "source": [
    "articles = []\n",
    "\n",
    "for name in articles_names:\n",
    "    with open('../train_data/' + name, 'r') as fin:\n",
    "        articles.append(fin.read())"
   ]
  },
  {
   "cell_type": "code",
   "execution_count": 5,
   "metadata": {
    "collapsed": false
   },
   "outputs": [
    {
     "name": "stdout",
     "output_type": "stream",
     "text": [
      "{Author, Unknown} \r\n",
      "\n",
      "{Author, Unknown} СМИ Ирана: Финляндия не хочет вст�\n"
     ]
    }
   ],
   "source": [
    "print articles[0][:100]"
   ]
  },
  {
   "cell_type": "code",
   "execution_count": null,
   "metadata": {
    "collapsed": true
   },
   "outputs": [],
   "source": [
    "for article in artic"
   ]
  }
 ],
 "metadata": {
  "kernelspec": {
   "display_name": "Python 2",
   "language": "python",
   "name": "python2"
  },
  "language_info": {
   "codemirror_mode": {
    "name": "ipython",
    "version": 2
   },
   "file_extension": ".py",
   "mimetype": "text/x-python",
   "name": "python",
   "nbconvert_exporter": "python",
   "pygments_lexer": "ipython2",
   "version": "2.7.10"
  }
 },
 "nbformat": 4,
 "nbformat_minor": 0
}
